{
 "cells": [
  {
   "cell_type": "code",
   "execution_count": 1,
   "metadata": {},
   "outputs": [],
   "source": [
    "# Imports \n",
    "import shutil\n",
    "import os\n",
    "import earthpy as et"
   ]
  },
  {
   "cell_type": "code",
   "execution_count": 2,
   "metadata": {},
   "outputs": [],
   "source": [
    "# Download some data in case you don't have it so this notebook runs\n",
    "et.data.get_data(\"colorado-flood\")\n",
    "os.chdir(et.io.HOME)"
   ]
  },
  {
   "cell_type": "code",
   "execution_count": 3,
   "metadata": {},
   "outputs": [
    {
     "name": "stdout",
     "output_type": "stream",
     "text": [
      "download-data.ipynb\r\n",
      "ea-2020-class-notebooks\r\n",
      "ea-homework-notebooks\r\n",
      "ea-python-2020-03-spatial-vector-data-hw-steph.ipynb\r\n",
      "earth-analytics\r\n",
      "final-week-hub-example-download-backup-hub.ipynb\r\n",
      "Project-Copy1.ipynb\r\n",
      "spring-2020-course-notebooks\r\n",
      "week-9-inclasswork.ipynb\r\n"
     ]
    }
   ],
   "source": [
    "# View a list of all directories on the hub \n",
    "!ls"
   ]
  },
  {
   "cell_type": "markdown",
   "metadata": {},
   "source": [
    "## Explore File / Dir Size on the Hub \n",
    "\n",
    "If you want to do a bit of exploring to better understand file sizes, you can use the bash command below. Because you can re download the earth analytics data, you might want to delete some of the data that you downloaded in your notebooks each week. "
   ]
  },
  {
   "cell_type": "code",
   "execution_count": 4,
   "metadata": {},
   "outputs": [
    {
     "name": "stdout",
     "output_type": "stream",
     "text": [
      "329M\tearth-analytics/\r\n"
     ]
    }
   ],
   "source": [
    "# View size of earth analytics directory (this might be big)\n",
    "!du -hs earth-analytics/"
   ]
  },
  {
   "cell_type": "code",
   "execution_count": 5,
   "metadata": {},
   "outputs": [
    {
     "name": "stdout",
     "output_type": "stream",
     "text": [
      "5.9G\t.\r\n"
     ]
    }
   ],
   "source": [
    "# View total size of everything in your home directory\n",
    "!du -hs ."
   ]
  },
  {
   "cell_type": "markdown",
   "metadata": {},
   "source": [
    "## DANGER ZONE -- PROCEED WITH CAUTION\n",
    "\n",
    "Run the code below with CAUTION. it will delete files and directories recursively. Once you delete data, there is no way to recover it!! \n",
    "\n",
    "We suggest that you start by deleting data directories with data in them from each assignment. this is likely 4-5 GB atleast!"
   ]
  },
  {
   "cell_type": "code",
   "execution_count": 6,
   "metadata": {},
   "outputs": [
    {
     "name": "stdout",
     "output_type": "stream",
     "text": [
      "download-data.ipynb\r\n",
      "ea-2020-class-notebooks\r\n",
      "ea-homework-notebooks\r\n",
      "ea-python-2020-03-spatial-vector-data-hw-steph.ipynb\r\n",
      "earth-analytics\r\n",
      "final-week-hub-example-download-backup-hub.ipynb\r\n",
      "Project-Copy1.ipynb\r\n",
      "spring-2020-course-notebooks\r\n",
      "week-9-inclasswork.ipynb\r\n"
     ]
    }
   ],
   "source": [
    "# Look at what is in your earth-analytics/data directory:\n",
    "!ls "
   ]
  },
  {
   "cell_type": "code",
   "execution_count": 11,
   "metadata": {},
   "outputs": [
    {
     "name": "stdout",
     "output_type": "stream",
     "text": [
      "download-data.ipynb\r\n",
      "ea-2020-class-notebooks\r\n",
      "ea-homework-notebooks\r\n",
      "ea-python-2020-03-spatial-vector-data-hw-steph.ipynb\r\n",
      "earth-analytics\r\n",
      "final-week-hub-example-download-backup-hub.ipynb\r\n",
      "Project-Copy1.ipynb\r\n",
      "spring-2020-course-notebooks\r\n",
      "week-9-inclasswork.ipynb\r\n"
     ]
    }
   ],
   "source": [
    "!ls"
   ]
  },
  {
   "cell_type": "code",
   "execution_count": 12,
   "metadata": {},
   "outputs": [],
   "source": [
    "# Uncomment the line below to delete colorado flood directory - \n",
    "# this deletes everything within it! \n",
    "data_path = os.path.join(\"earth-analytics\", \"data\", \"colorado-flood\")\n",
    "#shutil.rmtree(data_path)"
   ]
  },
  {
   "cell_type": "code",
   "execution_count": 14,
   "metadata": {},
   "outputs": [
    {
     "name": "stdout",
     "output_type": "stream",
     "text": [
      "colorado-flood\r\n"
     ]
    }
   ],
   "source": [
    "# Check to see if the directory is removed\n",
    "!ls earth-analytics/data"
   ]
  },
  {
   "cell_type": "code",
   "execution_count": 15,
   "metadata": {},
   "outputs": [
    {
     "name": "stdout",
     "output_type": "stream",
     "text": [
      "5.9G\t.\r\n"
     ]
    }
   ],
   "source": [
    "# If you deleted the colorado flood dir above, your file size should be smaller now. \n",
    "!du -hs ."
   ]
  },
  {
   "cell_type": "markdown",
   "metadata": {},
   "source": [
    "## Create Zip File\n",
    "Once you know that you have space to create a zip that you can download, you can run the code below. IMPORTANT: the code below will FAIL if you have not cleaned up extra data on your hub!\n"
   ]
  },
  {
   "cell_type": "code",
   "execution_count": 18,
   "metadata": {},
   "outputs": [
    {
     "data": {
      "text/plain": [
       "'/home/jovyan'"
      ]
     },
     "execution_count": 18,
     "metadata": {},
     "output_type": "execute_result"
    }
   ],
   "source": [
    "os.getcwd()"
   ]
  },
  {
   "cell_type": "code",
   "execution_count": 10,
   "metadata": {},
   "outputs": [],
   "source": [
    "# This will create a zip file of everything on your hub\n",
    "# If you have issues with the download - you can just export a directory at a \n",
    "# time using the code below\n",
    "# shutil.make_archive(base_name=\"name-of-your-new-zip-file-here\", \n",
    "#                     format= \"zip\", \n",
    "#                     root_dir=\".\")"
   ]
  }
 ],
 "metadata": {
  "kernelspec": {
   "display_name": "Python 3",
   "language": "python",
   "name": "python3"
  },
  "language_info": {
   "codemirror_mode": {
    "name": "ipython",
    "version": 3
   },
   "file_extension": ".py",
   "mimetype": "text/x-python",
   "name": "python",
   "nbconvert_exporter": "python",
   "pygments_lexer": "ipython3",
   "version": "3.7.6"
  }
 },
 "nbformat": 4,
 "nbformat_minor": 4
}
